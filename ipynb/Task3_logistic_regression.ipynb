{
 "cells": [
  {
   "cell_type": "markdown",
   "metadata": {},
   "source": [
    "# 1、先尝试调用sklearn的线性回归模型训练数据，尝试以下代码，画图查看分类的结果"
   ]
  },
  {
   "cell_type": "code",
   "execution_count": 170,
   "metadata": {},
   "outputs": [],
   "source": [
    "import numpy as np\n",
    "import pandas as pd\n",
    "import matplotlib.pyplot as plt\n",
    "%matplotlib inline"
   ]
  },
  {
   "cell_type": "code",
   "execution_count": 171,
   "metadata": {},
   "outputs": [],
   "source": [
    "df_X = pd.read_csv('/home/jiale/codes/AI_JOB_Notes/Datawhale/team-learning_back/初级算法梳理/logistic_x.txt', sep='\\ +', header=None, engine='python')  # 读取X值\n",
    "ys = pd.read_csv('/home/jiale/codes/AI_JOB_Notes/Datawhale/team-learning_back/初级算法梳理/logistic_y.txt', sep='\\ +', header=None, engine='python')  # 读取y值\n",
    "ys = ys.astype(int)\n",
    "df_X['label'] = ys[0].values  # 将X按照y值的结果一一打标签"
   ]
  },
  {
   "cell_type": "code",
   "execution_count": 172,
   "metadata": {},
   "outputs": [
    {
     "data": {
      "text/html": [
       "<div>\n",
       "<style scoped>\n",
       "    .dataframe tbody tr th:only-of-type {\n",
       "        vertical-align: middle;\n",
       "    }\n",
       "\n",
       "    .dataframe tbody tr th {\n",
       "        vertical-align: top;\n",
       "    }\n",
       "\n",
       "    .dataframe thead th {\n",
       "        text-align: right;\n",
       "    }\n",
       "</style>\n",
       "<table border=\"1\" class=\"dataframe\">\n",
       "  <thead>\n",
       "    <tr style=\"text-align: right;\">\n",
       "      <th></th>\n",
       "      <th>0</th>\n",
       "      <th>1</th>\n",
       "      <th>label</th>\n",
       "    </tr>\n",
       "  </thead>\n",
       "  <tbody>\n",
       "    <tr>\n",
       "      <th>0</th>\n",
       "      <td>1.343250</td>\n",
       "      <td>-1.331148</td>\n",
       "      <td>0</td>\n",
       "    </tr>\n",
       "    <tr>\n",
       "      <th>1</th>\n",
       "      <td>1.820553</td>\n",
       "      <td>-0.634668</td>\n",
       "      <td>0</td>\n",
       "    </tr>\n",
       "    <tr>\n",
       "      <th>2</th>\n",
       "      <td>0.986321</td>\n",
       "      <td>-1.888576</td>\n",
       "      <td>0</td>\n",
       "    </tr>\n",
       "    <tr>\n",
       "      <th>3</th>\n",
       "      <td>1.944373</td>\n",
       "      <td>-1.635452</td>\n",
       "      <td>0</td>\n",
       "    </tr>\n",
       "    <tr>\n",
       "      <th>4</th>\n",
       "      <td>0.976734</td>\n",
       "      <td>-1.353315</td>\n",
       "      <td>0</td>\n",
       "    </tr>\n",
       "  </tbody>\n",
       "</table>\n",
       "</div>"
      ],
      "text/plain": [
       "          0         1  label\n",
       "0  1.343250 -1.331148      0\n",
       "1  1.820553 -0.634668      0\n",
       "2  0.986321 -1.888576      0\n",
       "3  1.944373 -1.635452      0\n",
       "4  0.976734 -1.353315      0"
      ]
     },
     "execution_count": 172,
     "metadata": {},
     "output_type": "execute_result"
    }
   ],
   "source": [
    "df_X.head()"
   ]
  },
  {
   "cell_type": "code",
   "execution_count": 173,
   "metadata": {},
   "outputs": [
    {
     "data": {
      "text/plain": [
       "<matplotlib.axes._subplots.AxesSubplot at 0x7f38c62bf390>"
      ]
     },
     "execution_count": 173,
     "metadata": {},
     "output_type": "execute_result"
    },
    {
     "data": {
      "image/png": "[encoded data removed]",
      "text/plain": [
       "<Figure size 432x288 with 1 Axes>"
      ]
     },
     "metadata": {
      "needs_background": "light"
     },
     "output_type": "display_data"
    }
   ],
   "source": [
    "ax = plt.axes()\n",
    "#在二维图中描绘X点所处位置，直观查看数据点的分布情况\n",
    "df_X.query('label == 0').plot.scatter(x=0, y=1, ax=ax, color='blue')\n",
    "df_X.query('label == 1').plot.scatter(x=0, y=1, ax=ax, color='red')"
   ]
  },
  {
   "cell_type": "code",
   "execution_count": 174,
   "metadata": {},
   "outputs": [],
   "source": [
    "#提取用于学习的数据\n",
    "Xs = df_X[[0, 1]].values\n",
    "Xs = np.hstack([np.ones((Xs.shape[0], 1)), Xs]) \n",
    "ys = df_X['label'].values"
   ]
  },
  {
   "cell_type": "code",
   "execution_count": 175,
   "metadata": {},
   "outputs": [
    {
     "data": {
      "text/plain": [
       "array([[ 1.        ,  1.3432504 , -1.3311479 ],\n",
       "       [ 1.        ,  1.8205529 , -0.6346681 ],\n",
       "       [ 1.        ,  0.98632067, -1.8885762 ],\n",
       "       [ 1.        ,  1.9443734 , -1.635452  ],\n",
       "       [ 1.        ,  0.97673352, -1.3533151 ]])"
      ]
     },
     "execution_count": 175,
     "metadata": {},
     "output_type": "execute_result"
    }
   ],
   "source": [
    "Xs[0:5]"
   ]
  },
  {
   "cell_type": "code",
   "execution_count": 176,
   "metadata": {
    "scrolled": false
   },
   "outputs": [
    {
     "name": "stdout",
     "output_type": "stream",
     "text": [
      "Coefficient: [[-1.70090714  0.55446484  1.07222372]]\n",
      "Score: 0.898989898989899\n"
     ]
    },
    {
     "name": "stderr",
     "output_type": "stream",
     "text": [
      "/home/jiale/python3-tf-gpu/lib/python3.6/site-packages/sklearn/linear_model/logistic.py:433: FutureWarning: Default solver will be changed to 'lbfgs' in 0.22. Specify a solver to silence this warning.\n",
      "  FutureWarning)\n"
     ]
    }
   ],
   "source": [
    "from __future__ import print_function\n",
    "import numpy as np\n",
    "from sklearn.linear_model import LogisticRegression\n",
    "\n",
    "lr = LogisticRegression(fit_intercept=False) #因为前面已经将截距项的值合并到变量中，此处参数设置不需要截距项\n",
    "lr.fit(Xs, ys) #拟合\n",
    "score = lr.score(Xs, ys) #结果评价\n",
    "print(\"Coefficient: %s\" % lr.coef_)\n",
    "print(\"Score: %s\" % score)\n"
   ]
  },
  {
   "cell_type": "code",
   "execution_count": 177,
   "metadata": {},
   "outputs": [
    {
     "data": {
      "text/plain": [
       "[<matplotlib.lines.Line2D at 0x7f38c22071d0>]"
      ]
     },
     "execution_count": 177,
     "metadata": {},
     "output_type": "execute_result"
    },
    {
     "data": {
      "image/png": "[encoded data removed]",
      "text/plain": [
       "<Figure size 432x288 with 1 Axes>"
      ]
     },
     "metadata": {
      "needs_background": "light"
     },
     "output_type": "display_data"
    }
   ],
   "source": [
    "ax = plt.axes()\n",
    "\n",
    "df_X.query('label == 0').plot.scatter(x=0, y=1, ax=ax, color='blue')\n",
    "df_X.query('label == 1').plot.scatter(x=0, y=1, ax=ax, color='red')\n",
    "\n",
    "_xs = np.array([np.min(Xs[:,1]), np.max(Xs[:,1])])\n",
    "\n",
    "#将数据以二维图形式描点，并用学习得出的参数结果作为阈值，划分数据区域\n",
    "# 0 = k + w1*x + w2 * y \n",
    "# y = (k + w1*x) / (-w2)\n",
    "_ys = (lr.coef_[0][0] + lr.coef_[0][1] * _xs) / (- lr.coef_[0][2])\n",
    "# 绘制两个端点\n",
    "plt.plot(_xs, _ys, lw=1)"
   ]
  },
  {
   "cell_type": "markdown",
   "metadata": {},
   "source": [
    "# 2 用梯度下降法将相同的数据分类，画图和sklearn的结果相比较"
   ]
  },
  {
   "cell_type": "code",
   "execution_count": 201,
   "metadata": {},
   "outputs": [],
   "source": [
    "from tqdm import tqdm"
   ]
  },
  {
   "cell_type": "code",
   "execution_count": 202,
   "metadata": {
    "scrolled": false
   },
   "outputs": [],
   "source": [
    "class LGR_GD():\n",
    "    def __init__(self):\n",
    "        self.w = None\n",
    "        self.n_iters = None\n",
    "\n",
    "    def sigmoid(self, z):\n",
    "        return 1 / (1 + np.exp(-z))\n",
    "    \n",
    "    def net_input(self, x):\n",
    "        # Computes the weighted sum of inputs\n",
    "        return np.dot(x, self.w.T)\n",
    "\n",
    "    def cost(self, X, y, penalty, C):\n",
    "        left = np.multiply(-y, np.log(self.sigmoid(self.net_input(X))))\n",
    "        right = np.multiply(1 - y, np.log(1 - self.sigmoid(self.net_input(X))))\n",
    "        if penalty is None:\n",
    "            reg_term = 0\n",
    "        else:\n",
    "            theta = self.w[0][1:]\n",
    "            reg_term = (1 / (2 * X.shape[0])) * np.dot(theta, theta.T)\n",
    "        return np.sum(left - right ) / len(X) + reg_term\n",
    "\n",
    "    def fit(self, X, y, alpha=1, loss=1e-10, penalty=None, C=1):  # 设定步长为0.002，判断是否收敛的条件为1e-10\n",
    "        y = y.reshape(-1, 1)  # 重塑y值的维度以便矩阵运算\n",
    "        [m, d] = np.shape(X)  # 自变量的维度\n",
    "        self.w = np.zeros((1, d))  # 将参数的初始值定为0\n",
    "        tol = 1e5\n",
    "        self.n_iters = 0\n",
    "        cost_old = tol\n",
    "        fig, ax = plt.subplots()\n",
    "        y1 = []\n",
    "        # ============================= show me your code =======================\n",
    "        while tol > loss:  # 设置收敛条件\n",
    "#         for k in tqdm(range(1000)):\n",
    "#             # implementation1:\n",
    "#             w_deriv = 0\n",
    "#             for i in range(m):\n",
    "#                 w_deriv += np.multiply(self.sigmoid(self.net_input(X[i])) - y[i], X[i])\n",
    "                \n",
    "            # implementation2:\n",
    "            if penalty is None:\n",
    "                w_deriv = np.dot((self.sigmoid(self.net_input(X)) - y).T, X)\n",
    "                self.w -= w_deriv/m * alpha\n",
    "            else:\n",
    "                w_deriv = np.dot((self.sigmoid(self.net_input(X)) - y).T, X)\n",
    "                self.w -= C * w_deriv/m * alpha +  np.sum(self.w[0][1:])/m\n",
    "            \n",
    "            tol = abs(self.cost(X, y, penalty=penalty, C=C)-cost_old)\n",
    "            cost_old = self.cost(X, y, penalty=penalty, C=C)\n",
    "            \n",
    "            self.n_iters += 1  # 更新迭代次数\n",
    "\n",
    "            # plot\n",
    "            y1.append(np.log(tol))\n",
    "            ax.cla()\n",
    "            ax.set_title(\"Loss-Iteration\")\n",
    "            ax.set_xlabel(\"Iteration\")\n",
    "            ax.set_ylabel(\"log(Loss)\")\n",
    "            ax.grid()\n",
    "            ax.plot(y1, label='train')\n",
    "            ax.legend(loc='best')\n",
    "        # ============================= show me your code =======================\n",
    "\n",
    "    def predict(self, X):\n",
    "        # 用已经拟合的参数值预测新自变量\n",
    "        y_pred = self.sigmoid(self.net_input(X))\n",
    "        #         y_pred = X.dot(self.w)\n",
    "        return y_pred\n",
    "         #============================= show me your code =======================\n",
    "    "
   ]
  },
  {
   "cell_type": "code",
   "execution_count": 203,
   "metadata": {},
   "outputs": [
    {
     "name": "stdout",
     "output_type": "stream",
     "text": [
      "估计的参数值为：[[-2.61993824  0.76024545  1.17190459]]\n"
     ]
    },
    {
     "data": {
      "image/png": "[encoded data removed]",
      "text/plain": [
       "<Figure size 432x288 with 1 Axes>"
      ]
     },
     "metadata": {
      "needs_background": "light"
     },
     "output_type": "display_data"
    }
   ],
   "source": [
    "if __name__ == \"__main__\":\n",
    "    lr_gd = LGR_GD()\n",
    "    lr_gd.fit(Xs,ys)\n",
    "    print(\"估计的参数值为：%s\" %(lr_gd.w))"
   ]
  },
  {
   "cell_type": "code",
   "execution_count": 204,
   "metadata": {},
   "outputs": [
    {
     "name": "stdout",
     "output_type": "stream",
     "text": [
      "452\n"
     ]
    }
   ],
   "source": [
    "print(lr_gd.n_iters)"
   ]
  },
  {
   "cell_type": "code",
   "execution_count": 205,
   "metadata": {},
   "outputs": [
    {
     "name": "stdout",
     "output_type": "stream",
     "text": [
      "估计的参数值为：[[-3.59283786  0.94936662  1.1159201 ]]\n"
     ]
    },
    {
     "data": {
      "image/png": "[encoded data removed]",
      "text/plain": [
       "<Figure size 432x288 with 1 Axes>"
      ]
     },
     "metadata": {
      "needs_background": "light"
     },
     "output_type": "display_data"
    }
   ],
   "source": [
    "if __name__ == \"__main__\":\n",
    "    lgr_gd = LGR_GD()\n",
    "    lgr_gd.fit(Xs,ys,penalty=\"l2\")\n",
    "    print(\"估计的参数值为：%s\" %(lgr_gd.w))"
   ]
  },
  {
   "cell_type": "code",
   "execution_count": 206,
   "metadata": {},
   "outputs": [
    {
     "name": "stdout",
     "output_type": "stream",
     "text": [
      "1417\n"
     ]
    }
   ],
   "source": [
    "print(lr_gd.n_iters)"
   ]
  },
  {
   "cell_type": "markdown",
   "metadata": {},
   "source": [
    "# 3 用牛顿法实现结果，画图和sklearn的结果相比较，并比较牛顿法和梯度下降法迭代收敛的次数"
   ]
  },
  {
   "cell_type": "code",
   "execution_count": 237,
   "metadata": {},
   "outputs": [],
   "source": [
    "class LGR_NT():\n",
    "    def __init__(self):\n",
    "        self.w = None\n",
    "        self.n_iters = None\n",
    "\n",
    "    def sigmoid(self, z):\n",
    "        return 1 / (1 + np.exp(-z))\n",
    "\n",
    "    def net_input(self, x):\n",
    "        # Computes the weighted sum of inputs\n",
    "        return np.dot(x, self.w.T)\n",
    "\n",
    "    def cost(self, X, y):\n",
    "        left = np.multiply(-y, np.log(self.sigmoid(self.net_input(X))))\n",
    "        right = np.multiply(1 - y, np.log(1 - self.sigmoid(self.net_input(X))))\n",
    "        return np.sum(left - right)\n",
    "\n",
    "    def fit(self, X, y, loss=1e-10):  # 判断是否收敛的条件为1e-10\n",
    "        y = y.reshape(-1, 1)  # 重塑y值的维度以便矩阵运算\n",
    "        [m, d] = np.shape(X)  # 自变量的维度\n",
    "        self.w = np.zeros((1, d))  # 将参数的初始值定为0\n",
    "        tol = 1e5\n",
    "        n_iters = 0\n",
    "        Hessian = np.zeros((d, d))\n",
    "        cost_old = tol\n",
    "        fig, ax = plt.subplots()\n",
    "        y1 = []\n",
    "        # ============================= show me your code =======================\n",
    "        while tol > loss:\n",
    "            mu = self.sigmoid(self.net_input(X))\n",
    "            w_deriv = np.dot((mu - y).T, X)\n",
    "            S = mu * (1-mu) * np.eye(m)\n",
    "            H = np.mat(X.T) * S * np.mat(X)\n",
    "            self.w -= w_deriv * H.I\n",
    "            tol = abs(self.cost(X, y) - cost_old)\n",
    "            cost_old = self.cost(X, y)\n",
    "            n_iters += 1\n",
    "            # ============================= show me your code =======================\n",
    "\n",
    "            # plot\n",
    "            y1.append(tol)\n",
    "            ax.cla()\n",
    "            ax.set_title(\"Loss\")\n",
    "            ax.set_xlabel(\"Iteration\")\n",
    "            ax.set_ylabel(\"Loss\")\n",
    "            ax.grid()\n",
    "            ax.plot(y1, label='train')\n",
    "            ax.legend(loc='best')\n",
    "        self.n_iters = n_iters\n",
    "\n",
    "    def predict(self, X):\n",
    "        # 用已经拟合的参数值预测新自变量\n",
    "        y_pred = X.dot(self.w)\n",
    "        return y_pred"
   ]
  },
  {
   "cell_type": "code",
   "execution_count": 238,
   "metadata": {},
   "outputs": [
    {
     "data": {
      "image/png": "[encoded data removed]",
      "text/plain": [
       "<Figure size 432x288 with 1 Axes>"
      ]
     },
     "metadata": {
      "needs_background": "light"
     },
     "output_type": "display_data"
    }
   ],
   "source": [
    "if __name__ == \"__main__\":\n",
    "    lgr_nt = LGR_NT()\n",
    "    lgr_nt.fit(Xs,ys)"
   ]
  },
  {
   "cell_type": "code",
   "execution_count": 239,
   "metadata": {},
   "outputs": [
    {
     "name": "stdout",
     "output_type": "stream",
     "text": [
      "牛顿法结果参数：[[-2.6205116   0.76037154  1.17194674]];牛顿法迭代次数：6\n"
     ]
    }
   ],
   "source": [
    "print(\"牛顿法结果参数：%s;牛顿法迭代次数：%s\" %(lgr_nt.w,lgr_nt.n_iters))"
   ]
  },
  {
   "cell_type": "markdown",
   "metadata": {},
   "source": [
    "#### 比较梯度下降法和牛顿法收敛速度"
   ]
  },
  {
   "cell_type": "code",
   "execution_count": 241,
   "metadata": {
    "scrolled": true
   },
   "outputs": [
    {
     "name": "stdout",
     "output_type": "stream",
     "text": [
      "梯度下降法结果参数：[[-3.59283786  0.94936662  1.1159201 ]];梯度下降法迭代次数：1417\n",
      "牛顿法结果参数：[[-2.6205116   0.76037154  1.17194674]];牛顿法迭代次数：6\n"
     ]
    }
   ],
   "source": [
    "print(\"梯度下降法结果参数：%s;梯度下降法迭代次数：%s\" %(lgr_gd.w,lgr_gd.n_iters))\n",
    "print(\"牛顿法结果参数：%s;牛顿法迭代次数：%s\" %(lgr_nt.w,lgr_nt.n_iters))"
   ]
  },
  {
   "cell_type": "markdown",
   "metadata": {},
   "source": [
    "可以，看到，牛顿法的收敛速度比梯度下降法快很多。"
   ]
  }
 ],
 "metadata": {
  "kernelspec": {
   "display_name": "python3-tf",
   "language": "python",
   "name": "python3-tf"
  },
  "language_info": {
   "codemirror_mode": {
    "name": "ipython",
    "version": 3
   },
   "file_extension": ".py",
   "mimetype": "text/x-python",
   "name": "python",
   "nbconvert_exporter": "python",
   "pygments_lexer": "ipython3",
   "version": "3.6.8"
  },
  "toc": {
   "base_numbering": 1,
   "nav_menu": {},
   "number_sections": true,
   "sideBar": true,
   "skip_h1_title": false,
   "title_cell": "Table of Contents",
   "title_sidebar": "Contents",
   "toc_cell": false,
   "toc_position": {},
   "toc_section_display": true,
   "toc_window_display": false
  }
 },
 "nbformat": 4,
 "nbformat_minor": 2
}
